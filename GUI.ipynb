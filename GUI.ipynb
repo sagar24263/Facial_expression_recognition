{
 "cells": [
  {
   "cell_type": "code",
   "execution_count": 1,
   "metadata": {},
   "outputs": [
    {
     "ename": "ModuleNotFoundError",
     "evalue": "No module named 'cv2'",
     "output_type": "error",
     "traceback": [
      "\u001b[1;31m---------------------------------------------------------------------------\u001b[0m",
      "\u001b[1;31mModuleNotFoundError\u001b[0m                       Traceback (most recent call last)",
      "\u001b[1;32m~\\AppData\\Local\\Temp/ipykernel_12872/4163345133.py\u001b[0m in \u001b[0;36m<module>\u001b[1;34m\u001b[0m\n\u001b[0;32m      1\u001b[0m \u001b[1;32mfrom\u001b[0m \u001b[0mtkinter\u001b[0m \u001b[1;32mimport\u001b[0m \u001b[1;33m*\u001b[0m\u001b[1;33m\u001b[0m\u001b[1;33m\u001b[0m\u001b[0m\n\u001b[0;32m      2\u001b[0m \u001b[1;32mfrom\u001b[0m \u001b[0mPIL\u001b[0m \u001b[1;32mimport\u001b[0m \u001b[0mImage\u001b[0m\u001b[1;33m,\u001b[0m\u001b[0mImageTk\u001b[0m\u001b[1;33m\u001b[0m\u001b[1;33m\u001b[0m\u001b[0m\n\u001b[1;32m----> 3\u001b[1;33m \u001b[1;32mimport\u001b[0m \u001b[0mcv2\u001b[0m\u001b[1;33m\u001b[0m\u001b[1;33m\u001b[0m\u001b[0m\n\u001b[0m\u001b[0;32m      4\u001b[0m \u001b[1;32mimport\u001b[0m \u001b[0mnumpy\u001b[0m \u001b[1;32mas\u001b[0m \u001b[0mnp\u001b[0m\u001b[1;33m\u001b[0m\u001b[1;33m\u001b[0m\u001b[0m\n",
      "\u001b[1;31mModuleNotFoundError\u001b[0m: No module named 'cv2'"
     ]
    }
   ],
   "source": [
    "from tkinter import *\n",
    "from PIL import Image,ImageTk\n",
    "import cv2\n",
    "import numpy as np"
   ]
  },
  {
   "cell_type": "code",
   "execution_count": null,
   "metadata": {},
   "outputs": [],
   "source": [
    "from keras.models import load_model\n",
    "model = load_model('main_model.h5')\n",
    "cv2.ocl.setUseOpenCL(False)\n",
    "emoji_dict = {0: \"emojis/angry.png\",1: \"emojis/disguested.png\",2: \"emojis/fearful.png\",3: \"emojis/happy.png\",4: \"emojis/neutral.png\",5: \"emojis/sad.png\",6: \"emojis/surprised.png\"}\n",
    "emotion_dict = {0: \"Angry\", 1: \"Disgusted\", 2: \"Fearful\", 3: \"Happy\", 4: \"Neutral\", 5: \"Sad\", 6: \"Surprised\"}\n",
    "cascade_classifier = cv2.CascadeClassifier('haarcascades/haarcascade_frontalface_default.xml')\n",
    "global cap\n",
    "global last_frame\n",
    "last_frame = np.zeros((300,300,3))\n",
    "def show_vid():\n",
    "    global cap\n",
    "    cap = cv2.VideoCapture(0)\n",
    "\n",
    "    ret, frame = cap.read()\n",
    "    frame = cv2.resize(frame,(300,300))\n",
    "    gray_img = cv2.cvtColor(frame,cv2.COLOR_BGR2GRAY)\n",
    "    #gray_img = img_gray.reshape(img_gray.shape[0],img_gray.shape[1],1)\n",
    "    if not ret:\n",
    "        print('Not opened')\n",
    "    else:\n",
    "        face = cascade_classifier.detectMultiScale(gray_img,scaleFactor=1.3,minNeighbors=5)\n",
    "        for (x,y,w,h) in face:\n",
    "            cv2.rectangle(frame,(x,y),(x+w,y+h),(255,0,0),5)\n",
    "            roi = gray_img[y:y+h,x:x+w]\n",
    "            roi_resized = cv2.resize(roi,(48,48))\n",
    "            img_pred=np.expand_dims(np.expand_dims(cv2.resize(roi_resized, (48, 48)), -1), 0)\n",
    "            #img_pred = np.expand_dims(roi_resized,axis=0)\n",
    "            predict = model.predict_classes(img_pred)\n",
    "            #cv2.putText(frame,text=emotion_dict[predict[0]],org=(x+20,y-60),fontFace=cv2.FONT_HERSHEY_SIMPLEX,fontScale=2,color=(255,255,255),thickness=5,lineType=cv2.LINE_AA)\n",
    "            show_text[0]=predict[0]\n",
    "        #cv2.imshow('Facial Expression',cv2.resize(frame,(1280,720)))\n",
    "        if ret is None:\n",
    "            print(\"error\")\n",
    "        elif ret:\n",
    "            global last_frame\n",
    "            last_frame = frame.copy()\n",
    "            pic_img = cv2.cvtColor(last_frame,cv2.COLOR_BGR2RGB)\n",
    "            img = Image.fromarray(pic_img)\n",
    "            img_tk = ImageTk.PhotoImage(image=img)\n",
    "            photo_label.img_tk=img_tk\n",
    "            photo_label.configure(image=img_tk)\n",
    "            photo_label.after(15, show_vid)\n",
    "        if cv2.waitKey(2) & 0xFF == ord('q'):\n",
    "            exit()        \n",
    "    cap.release()\n",
    "    cv2.destroyAllWindows()"
   ]
  },
  {
   "cell_type": "code",
   "execution_count": null,
   "metadata": {},
   "outputs": [],
   "source": [
    "show_text = [0]\n",
    "def show_emoji():\n",
    "    frame2=cv2.imread(emoji_dict[show_text[0]])\n",
    "    frame2 = cv2.resize(frame2,(300,300))\n",
    "    img2=Image.fromarray(frame2)\n",
    "    imgtk2=ImageTk.PhotoImage(image=img2)\n",
    "    label_emoji.imgtk2=imgtk2\n",
    "    label_text.configure(text=emotion_dict[show_text[0]],font=('arial',45,'bold'))\n",
    "    label_emoji.configure(image=imgtk2)\n",
    "    label_emoji.after(15, show_emoji)"
   ]
  },
  {
   "cell_type": "code",
   "execution_count": null,
   "metadata": {},
   "outputs": [],
   "source": [
    "root = Tk()\n",
    "root.geometry(\"800x680\")\n",
    "root.configure(bg=\"gray\")\n",
    "root.title(\"Facial expression recognition\")\n",
    "label = Label(root,text=\"Facial Expression Recognition\",foreground=\"white\",bg=\"gray\",font=\"helvetica 22 bold\",pady=20)\n",
    "label.grid(padx=10)\n",
    "photo_label = Label(root,bg=\"black\")\n",
    "photo_label.grid(row=2,column=0)\n",
    "label_text = Label(root)\n",
    "label_text.grid(row=1,column=1,pady=5)\n",
    "label_emoji = Label(root,bg = \"black\")\n",
    "label_emoji.grid(row=2,column=1,pady=5)\n",
    "b = Button(root,text=\"Exit\",command=root.destroy,font=\"Arial 16 bold\")\n",
    "b.grid(row=3,column=0,pady=10,padx=10)\n",
    "show_vid()\n",
    "show_emoji()\n",
    "root.mainloop()"
   ]
  },
  {
   "cell_type": "code",
   "execution_count": null,
   "metadata": {},
   "outputs": [],
   "source": []
  },
  {
   "cell_type": "code",
   "execution_count": null,
   "metadata": {},
   "outputs": [],
   "source": []
  }
 ],
 "metadata": {
  "kernelspec": {
   "display_name": "Python 3 (ipykernel)",
   "language": "python",
   "name": "python3"
  },
  "language_info": {
   "codemirror_mode": {
    "name": "ipython",
    "version": 3
   },
   "file_extension": ".py",
   "mimetype": "text/x-python",
   "name": "python",
   "nbconvert_exporter": "python",
   "pygments_lexer": "ipython3",
   "version": "3.10.0"
  }
 },
 "nbformat": 4,
 "nbformat_minor": 2
}
